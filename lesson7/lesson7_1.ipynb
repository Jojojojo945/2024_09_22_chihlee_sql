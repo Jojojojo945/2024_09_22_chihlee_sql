{
 "cells": [
  {
   "cell_type": "code",
   "execution_count": 3,
   "metadata": {},
   "outputs": [],
   "source": [
    "import psycopg2\n",
    "conn = psycopg2.connect(host='dpg-csep5h0gph6c73eshc3g-a.oregon-postgres.render.com',database =\"render_jo_dzz5\", user = 'render_jo_dzz5_user', password = 'VCLaFk1Oy8GKcwyz8zYt74myUlliRtHj')"
   ]
  },
  {
   "cell_type": "code",
   "execution_count": 4,
   "metadata": {},
   "outputs": [
    {
     "name": "stdout",
     "output_type": "stream",
     "text": [
      "<connection object at 0x00000239469E0E10; dsn: 'user=render_jo_dzz5_user password=xxx dbname=render_jo_dzz5 host=dpg-csep5h0gph6c73eshc3g-a.oregon-postgres.render.com', closed: 0>\n"
     ]
    }
   ],
   "source": [
    "print(conn)"
   ]
  }
 ],
 "metadata": {
  "kernelspec": {
   "display_name": "jo",
   "language": "python",
   "name": "python3"
  },
  "language_info": {
   "codemirror_mode": {
    "name": "ipython",
    "version": 3
   },
   "file_extension": ".py",
   "mimetype": "text/x-python",
   "name": "python",
   "nbconvert_exporter": "python",
   "pygments_lexer": "ipython3",
   "version": "3.10.15"
  }
 },
 "nbformat": 4,
 "nbformat_minor": 2
}
