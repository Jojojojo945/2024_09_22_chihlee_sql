{
 "cells": [
  {
   "cell_type": "code",
   "execution_count": null,
   "metadata": {},
   "outputs": [],
   "source": [
    "import psycopg2\n",
    "conn = psycopg2.connect(host='dpg-csep5h0gph6c73eshc3g-a.oregon-postgres.render.com',database =\"render_jo_dzz5\", user = 'render_jo_dzz5_user', password = 'VCLaFk1Oy8GKcwyz8zYt74myUlliRtHj')\n",
    "\n"
   ]
  },
  {
   "cell_type": "code",
   "execution_count": 4,
   "metadata": {},
   "outputs": [
    {
     "name": "stdout",
     "output_type": "stream",
     "text": [
      "<connection object at 0x00000239469E0E10; dsn: 'user=render_jo_dzz5_user password=xxx dbname=render_jo_dzz5 host=dpg-csep5h0gph6c73eshc3g-a.oregon-postgres.render.com', closed: 0>\n"
     ]
    }
   ],
   "source": [
    "print(conn)"
   ]
  },
  {
   "cell_type": "code",
   "execution_count": null,
   "metadata": {},
   "outputs": [],
   "source": [
    "import psycopg2\n",
    "conn = psycopg2.connect(host='dpg-csep5h0gph6c73eshc3g-a.oregon-postgres.render.com',database =\"render_jo_dzz5\", user = 'render_jo_dzz5_user', password = 'VCLaFk1Oy8GKcwyz8zYt74myUlliRtHj')\n",
    "\n",
    "\n",
    "sql = '''CREATE TABLE IF NOT EXISTS 市場(\n",
    "\tname VARCHAR(20),\n",
    "\tcountry VARCHAR(20),\n",
    "\tPRIMARY KEY(name)\n",
    ");'''\n",
    "\n",
    "cursor = conn.cursor()\n",
    "cursor.execute(sql)\n",
    "\n",
    "sql1 = '''CREATE TABLE IF NOT EXISTS 股市(\n",
    "stock_id SERIAL,\n",
    "date DATE,\n",
    "open NUMERIC(17,10),\n",
    "high NUMERIC(17,10),\n",
    "low NUMERIC(17,10),\n",
    "close NUMERIC(17,10),\n",
    "adj_close NUMERIC(17,10),\n",
    "volume BIGINT DEFAULT 0,\n",
    "name VARCHAR(20),\n",
    "PRIMARY KEY(stock_id),\n",
    "FOREIGN KEY(name) REFERENCES 市場(name) \n",
    "ON DELETE NO ACTION\n",
    "ON UPDATE CASCADE\n",
    ");'''\n",
    "\n",
    "cursor.execute(sql1)\n",
    "conn.commit()\n",
    "\n",
    "cursor.close()\n",
    "conn.close()\n"
   ]
  },
  {
   "cell_type": "code",
   "execution_count": 17,
   "metadata": {},
   "outputs": [],
   "source": [
    "import psycopg2\n",
    "conn = psycopg2.connect(host='dpg-csep5h0gph6c73eshc3g-a.oregon-postgres.render.com',database =\"render_jo_dzz5\", user = 'render_jo_dzz5_user', password = 'VCLaFk1Oy8GKcwyz8zYt74myUlliRtHj')\n",
    "\n",
    "with conn:\n",
    "    with conn.cursor() as cursor:\n",
    "        sql = '''CREATE TABLE IF NOT EXISTS 市場(\n",
    "        name VARCHAR(20),\n",
    "        country VARCHAR(20),\n",
    "        PRIMARY KEY(name)\n",
    "        );'''\n",
    "        cursor.execute(sql)\n",
    "\n",
    "    with conn.cursor() as cursor:\n",
    "        sql = '''CREATE TABLE IF NOT EXISTS 股市(\n",
    "        stock_id SERIAL,\n",
    "        date DATE,\n",
    "        open NUMERIC(17,10),\n",
    "        high NUMERIC(17,10),\n",
    "        low NUMERIC(17,10),\n",
    "        close NUMERIC(17,10),\n",
    "        adj_close NUMERIC(17,10),\n",
    "        volume BIGINT DEFAULT 0,\n",
    "        name VARCHAR(20),\n",
    "        PRIMARY KEY(stock_id),\n",
    "        FOREIGN KEY(name) REFERENCES 市場(name) \n",
    "        ON DELETE NO ACTION\n",
    "        ON UPDATE CASCADE\n",
    "        );'''\n",
    "        cursor.execute(sql)\n",
    "\n",
    "conn.close()"
   ]
  }
 ],
 "metadata": {
  "kernelspec": {
   "display_name": "jo",
   "language": "python",
   "name": "python3"
  },
  "language_info": {
   "codemirror_mode": {
    "name": "ipython",
    "version": 3
   },
   "file_extension": ".py",
   "mimetype": "text/x-python",
   "name": "python",
   "nbconvert_exporter": "python",
   "pygments_lexer": "ipython3",
   "version": "3.10.15"
  }
 },
 "nbformat": 4,
 "nbformat_minor": 2
}
