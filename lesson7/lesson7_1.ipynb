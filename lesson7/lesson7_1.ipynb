{
 "cells": [
  {
   "cell_type": "code",
   "execution_count": null,
   "metadata": {},
   "outputs": [],
   "source": [
    "import psycopg2\n",
    "conn = psycopg2.connect(host='dpg-csep5h0gph6c73eshc3g-a.oregon-postgres.render.com',database =\"render_jo_dzz5\", user = 'render_jo_dzz5_user', password = 'VCLaFk1Oy8GKcwyz8zYt74myUlliRtHj')"
   ]
  },
  {
   "cell_type": "code",
   "execution_count": 4,
   "metadata": {},
   "outputs": [
    {
     "name": "stdout",
     "output_type": "stream",
     "text": [
      "<connection object at 0x00000239469E0E10; dsn: 'user=render_jo_dzz5_user password=xxx dbname=render_jo_dzz5 host=dpg-csep5h0gph6c73eshc3g-a.oregon-postgres.render.com', closed: 0>\n"
     ]
    }
   ],
   "source": [
    "print(conn)"
   ]
  },
  {
   "cell_type": "code",
   "execution_count": null,
   "metadata": {},
   "outputs": [
    {
     "ename": "SyntaxError",
     "evalue": "syntax error at or near \"UNIQUE\"\nLINE 5:  UNIQUE(name, country) /*不可以有重複的資料*/\n         ^\n",
     "output_type": "error",
     "traceback": [
      "\u001b[1;31m---------------------------------------------------------------------------\u001b[0m",
      "\u001b[1;31mSyntaxError\u001b[0m                               Traceback (most recent call last)",
      "Cell \u001b[1;32mIn[19], line 13\u001b[0m\n\u001b[0;32m      5\u001b[0m sql \u001b[38;5;241m=\u001b[39m \u001b[38;5;124m'''\u001b[39m\u001b[38;5;124mCREATE TABLE IF NOT EXISTS 市場(\u001b[39m\n\u001b[0;32m      6\u001b[0m \u001b[38;5;124m\tname VARCHAR(20),\u001b[39m\n\u001b[0;32m      7\u001b[0m \u001b[38;5;124m\tcountry VARCHAR(20),\u001b[39m\n\u001b[0;32m      8\u001b[0m \u001b[38;5;124m\tPRIMARY KEY(name)\u001b[39m\n\u001b[0;32m      9\u001b[0m \u001b[38;5;124m\tUNIQUE(name, country) /*不可以有重複的資料*/\u001b[39m\n\u001b[0;32m     10\u001b[0m \u001b[38;5;124m);\u001b[39m\u001b[38;5;124m'''\u001b[39m\n\u001b[0;32m     12\u001b[0m cursor \u001b[38;5;241m=\u001b[39m conn\u001b[38;5;241m.\u001b[39mcursor()\n\u001b[1;32m---> 13\u001b[0m \u001b[43mcursor\u001b[49m\u001b[38;5;241;43m.\u001b[39;49m\u001b[43mexecute\u001b[49m\u001b[43m(\u001b[49m\u001b[43msql\u001b[49m\u001b[43m)\u001b[49m\n\u001b[0;32m     15\u001b[0m sql1 \u001b[38;5;241m=\u001b[39m \u001b[38;5;124m'''\u001b[39m\u001b[38;5;124mCREATE TABLE IF NOT EXISTS 股市(\u001b[39m\n\u001b[0;32m     16\u001b[0m \u001b[38;5;124m\tstock_id SERIAL,\u001b[39m\n\u001b[0;32m     17\u001b[0m \u001b[38;5;124m\tdate DATE,\u001b[39m\n\u001b[1;32m   (...)\u001b[0m\n\u001b[0;32m     29\u001b[0m \u001b[38;5;124m\tON UPDATE CASCADE\u001b[39m\n\u001b[0;32m     30\u001b[0m \u001b[38;5;124m);\u001b[39m\u001b[38;5;124m'''\u001b[39m\n\u001b[0;32m     32\u001b[0m cursor\u001b[38;5;241m.\u001b[39mexecute(sql1)\n",
      "\u001b[1;31mSyntaxError\u001b[0m: syntax error at or near \"UNIQUE\"\nLINE 5:  UNIQUE(name, country) /*不可以有重複的資料*/\n         ^\n"
     ]
    }
   ],
   "source": [
    "import psycopg2\n",
    "conn = psycopg2.connect(host='dpg-csep5h0gph6c73eshc3g-a.oregon-postgres.render.com',database =\"render_jo_dzz5\", user = 'render_jo_dzz5_user', password = 'VCLaFk1Oy8GKcwyz8zYt74myUlliRtHj')\n",
    "\n",
    "\n",
    "sql = '''CREATE TABLE IF NOT EXISTS 市場(\n",
    "\tname VARCHAR(20),\n",
    "\tcountry VARCHAR(20),\n",
    "\tPRIMARY KEY(name)\n",
    "\tUNIQUE(name, country)\n",
    ");'''\n",
    "\n",
    "cursor = conn.cursor()\n",
    "cursor.execute(sql)\n",
    "\n",
    "sql1 = '''CREATE TABLE IF NOT EXISTS 股市(\n",
    "\tstock_id SERIAL,\n",
    "\tdate DATE,\n",
    "\topen NUMERIC(17,10),\n",
    "\thigh NUMERIC(17,10),\n",
    "\tlow NUMERIC(17,10),\n",
    "\tclose NUMERIC(17,10),\n",
    "\tadj_close NUMERIC(17,10),\n",
    "\tvolume BIGINT DEFAULT 0,\n",
    "\tname VARCHAR(20),\n",
    "\tPRIMARY KEY(stock_id),\n",
    "\tUNIQUE(date,name),\n",
    "\tFOREIGN KEY(name) REFERENCES 市場(name) \n",
    "\tON DELETE NO ACTION\n",
    "\tON UPDATE CASCADE\n",
    ");'''\n",
    "\n",
    "cursor.execute(sql1)\n",
    "conn.commit()\n",
    "\n",
    "cursor.close()\n",
    "conn.close()\n"
   ]
  },
  {
   "cell_type": "code",
   "execution_count": null,
   "metadata": {},
   "outputs": [],
   "source": [
    "import psycopg2\n",
    "conn = psycopg2.connect(host='dpg-csep5h0gph6c73eshc3g-a.oregon-postgres.render.com',database =\"render_jo_dzz5\", user = 'render_jo_dzz5_user', password = 'VCLaFk1Oy8GKcwyz8zYt74myUlliRtHj')\n",
    "\n",
    "with conn:\n",
    "    with conn.cursor() as cursor:\n",
    "        sql = '''CREATE TABLE IF NOT EXISTS 市場(\n",
    "        name VARCHAR(20),\n",
    "        country VARCHAR(20),\n",
    "        PRIMARY KEY(name)\n",
    "        UNIQUE(name, country)\n",
    "        );'''\n",
    "        cursor.execute(sql)\n",
    "\n",
    "    with conn.cursor() as cursor:\n",
    "        sql = '''CREATE TABLE IF NOT EXISTS 股市(\n",
    "        stock_id SERIAL,\n",
    "        date DATE,\n",
    "        open NUMERIC(17,10),\n",
    "        high NUMERIC(17,10),\n",
    "        low NUMERIC(17,10),\n",
    "        close NUMERIC(17,10),\n",
    "        adj_close NUMERIC(17,10),\n",
    "        volume BIGINT DEFAULT 0,\n",
    "        name VARCHAR(20),\n",
    "        PRIMARY KEY(stock_id),\n",
    "        UNIQUE(date,name),\n",
    "        FOREIGN KEY(name) REFERENCES 市場(name) \n",
    "        ON DELETE NO ACTION\n",
    "        ON UPDATE CASCADE\n",
    "        );'''\n",
    "        cursor.execute(sql)\n",
    "\n",
    "conn.close()"
   ]
  }
 ],
 "metadata": {
  "kernelspec": {
   "display_name": "jo",
   "language": "python",
   "name": "python3"
  },
  "language_info": {
   "codemirror_mode": {
    "name": "ipython",
    "version": 3
   },
   "file_extension": ".py",
   "mimetype": "text/x-python",
   "name": "python",
   "nbconvert_exporter": "python",
   "pygments_lexer": "ipython3",
   "version": "3.10.15"
  }
 },
 "nbformat": 4,
 "nbformat_minor": 2
}
